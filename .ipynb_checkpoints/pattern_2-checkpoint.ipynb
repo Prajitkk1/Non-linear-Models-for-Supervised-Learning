{
 "cells": [
  {
   "cell_type": "markdown",
   "metadata": {},
   "source": [
    "# Part - 1 support vector machine"
   ]
  },
  {
   "cell_type": "code",
   "execution_count": 1,
   "metadata": {},
   "outputs": [],
   "source": [
    "from sklearn import svm\n",
    "import mnist\n",
    "import matplotlib.pyplot as plt\n",
    "import numpy as np\n",
    "from sklearn.metrics import accuracy_score,zero_one_loss"
   ]
  },
  {
   "cell_type": "code",
   "execution_count": 2,
   "metadata": {},
   "outputs": [],
   "source": [
    "\n",
    "train_images = mnist.train_images()\n",
    "train_labels = mnist.train_labels()\n",
    "\n",
    "test_images = mnist.test_images()\n",
    "test_labels = mnist.test_labels()"
   ]
  },
  {
   "cell_type": "code",
   "execution_count": 3,
   "metadata": {},
   "outputs": [],
   "source": [
    "train_x = train_images.reshape(60000,(28*28))\n",
    "\n",
    "test_x = test_images.reshape(10000, (28*28))"
   ]
  },
  {
   "cell_type": "code",
   "execution_count": 5,
   "metadata": {},
   "outputs": [
    {
     "name": "stdout",
     "output_type": "stream",
     "text": [
      "Accuracy of model when we use c = 0.1 is  0.9595\n"
     ]
    }
   ],
   "source": [
    "clf = svm.SVC(kernel='rbf', C=0.1 ,gamma='scale')\n",
    "\n",
    "\n",
    "clf.fit(train_x, train_labels)\n",
    "\n",
    "\n",
    "pred = clf.predict(test_x)\n",
    "\n",
    "c_one = accuracy_score(test_labels, pred)\n",
    "print(\"Accuracy of model when we use c = 0.1 is  \" + str(c_one))"
   ]
  },
  {
   "cell_type": "code",
   "execution_count": 7,
   "metadata": {},
   "outputs": [
    {
     "name": "stdout",
     "output_type": "stream",
     "text": [
      "Accuracy of model when we use c = 1 is  0.9792\n"
     ]
    }
   ],
   "source": [
    "clf = svm.SVC(kernel='rbf', C=1 ,gamma='scale')\n",
    "\n",
    "\n",
    "clf.fit(train_x, train_labels)\n",
    "\n",
    "\n",
    "pred = clf.predict(test_x)\n",
    "\n",
    "c_two = accuracy_score(test_labels, pred)\n",
    "print(\"Accuracy of model when we use c = 1 is  \" + str(c_two))"
   ]
  },
  {
   "cell_type": "code",
   "execution_count": 8,
   "metadata": {},
   "outputs": [
    {
     "name": "stdout",
     "output_type": "stream",
     "text": [
      "Accuracy of model when we use c = 20 is 0.9834\n"
     ]
    }
   ],
   "source": [
    "clf = svm.SVC(kernel='rbf', C=20 ,gamma='scale')\n",
    "\n",
    "\n",
    "clf.fit(train_x, train_labels)\n",
    "\n",
    "\n",
    "pred = clf.predict(test_x)\n",
    "\n",
    "c_three = accuracy_score(test_labels, pred)\n",
    "\n",
    "print(\"Accuracy of model when we use c = 20 is \" + str(c_three))"
   ]
  },
  {
   "cell_type": "markdown",
   "metadata": {},
   "source": [
    "# Part 2"
   ]
  },
  {
   "cell_type": "markdown",
   "metadata": {},
   "source": [
    "# # Dual lagrangian formulation and its charactersitics "
   ]
  },
  {
   "cell_type": "markdown",
   "metadata": {},
   "source": [
    "2. Identify the Lagrange dual problem of the primal problem:\n"
   ]
  },
  {
   "cell_type": "markdown",
   "metadata": {},
   "source": [
    "Minimize $w^t.w+c∑_{i=1}^n ξ   $"
   ]
  },
  {
   "cell_type": "markdown",
   "metadata": {},
   "source": [
    "$y_i (w^t x_i )≥1- ξ_i $\twhere; $\tξ ≥0 $"
   ]
  },
  {
   "cell_type": "markdown",
   "metadata": {},
   "source": [
    "Applying lagrangian:"
   ]
  },
  {
   "cell_type": "markdown",
   "metadata": {},
   "source": [
    "$$L(w,ξ,α,β)= w^t.w+c ∑_{i=1}^n  ξ_i - ∑_ {i=1}^n α_i (y_i ( w^t x_i))+ ξ_i- 1- ∑_{i=1}^n β_i ξ_i $$"
   ]
  },
  {
   "cell_type": "markdown",
   "metadata": {},
   "source": [
    "Derivate L with respect to w , ε"
   ]
  },
  {
   "cell_type": "markdown",
   "metadata": {},
   "source": [
    "For w"
   ]
  },
  {
   "cell_type": "markdown",
   "metadata": {},
   "source": [
    "$$ \\frac{∂}{∂w} L(w,ξ,α,β)= 2 w-∑_{i=1}^n α_i y_i x_i =0   $$"
   ]
  },
  {
   "cell_type": "markdown",
   "metadata": {},
   "source": [
    "$$ w=  \\frac{1}{2} ∑_{i=1} ^n α_i y_i x_i $$"
   ]
  },
  {
   "cell_type": "markdown",
   "metadata": {},
   "source": [
    "For b : derivation Is 0"
   ]
  },
  {
   "cell_type": "markdown",
   "metadata": {},
   "source": [
    "For ξ"
   ]
  },
  {
   "cell_type": "markdown",
   "metadata": {},
   "source": [
    "$$  \\frac{∂}{∂ξ} (L(w,ξ,α,β)=c- α_i- β_i $$"
   ]
  },
  {
   "cell_type": "markdown",
   "metadata": {},
   "source": [
    "$$c=α_i+ β_i$$"
   ]
  },
  {
   "cell_type": "markdown",
   "metadata": {},
   "source": [
    "Substituting in lagrangian,"
   ]
  },
  {
   "cell_type": "markdown",
   "metadata": {},
   "source": [
    "$$L(w,α)=w^t.w+c∑_{i=1}^n  ξ_i   -  ∑_{i=1}^n α_i (y_i ( w^t x_i))+ ξ_i- 1- ∑_{i=1}^n β_i ξ_i  $$"
   ]
  },
  {
   "cell_type": "markdown",
   "metadata": {},
   "source": [
    "We get,"
   ]
  },
  {
   "cell_type": "markdown",
   "metadata": {},
   "source": [
    "$$ L(w,α)=∑_{i=1}^n α_i -  \\frac{1}{4} ∑_{i,j=1}^n α_i α_j y_i y_j x_i^t x_j $$"
   ]
  },
  {
   "cell_type": "markdown",
   "metadata": {},
   "source": [
    "Hence dual lagrangian is :"
   ]
  },
  {
   "cell_type": "markdown",
   "metadata": {},
   "source": [
    "$$max⁡α=∑_{i=1}^n α_i -  \\frac{1}{4} ∑_{i,j=1}^n α_i α_j y_i y_j x_i^t x_j      $$"
   ]
  },
  {
   "cell_type": "markdown",
   "metadata": {},
   "source": [
    "$$given c ≥α_i≥0$$"
   ]
  },
  {
   "cell_type": "markdown",
   "metadata": {},
   "source": [
    "Primal margin:"
   ]
  },
  {
   "cell_type": "markdown",
   "metadata": {},
   "source": [
    "$$γ=  \\frac{1}{(w^t.w+c∑_{i=1}^n ξ)}$$"
   ]
  },
  {
   "cell_type": "markdown",
   "metadata": {},
   "source": [
    "Dual margin:"
   ]
  },
  {
   "cell_type": "markdown",
   "metadata": {},
   "source": [
    "$$ γ=  \\frac{1}{\\sqrt{(α_i α_j y_i y_j x_i^t x_j )}}$$"
   ]
  },
  {
   "cell_type": "markdown",
   "metadata": {},
   "source": [
    "Characteristics:<br/>\n",
    "\t1. For points in the margin ε_i=0\n",
    "\t2. For points inside margin 0≤ε_i≤1\n",
    "\t3. For points in wrong side of margin ε_i>1 <br/>\n",
    "Slack variable is ε_i it can be calculated by $ ε_i=1-(y_i (w^t x_i )) $ <br/>\n",
    "significance of C:<br/><br/>\n",
    "AS we looked in the above solution, When the C is lower the support vector will have high Margin allowing it to high tolerance or error. when the C is big it has a low margin, thus it will not allow more errors\n"
   ]
  },
  {
   "cell_type": "code",
   "execution_count": null,
   "metadata": {},
   "outputs": [],
   "source": []
  }
 ],
 "metadata": {
  "kernelspec": {
   "display_name": "Python 3",
   "language": "python",
   "name": "python3"
  },
  "language_info": {
   "codemirror_mode": {
    "name": "ipython",
    "version": 3
   },
   "file_extension": ".py",
   "mimetype": "text/x-python",
   "name": "python",
   "nbconvert_exporter": "python",
   "pygments_lexer": "ipython3",
   "version": "3.7.4"
  }
 },
 "nbformat": 4,
 "nbformat_minor": 2
}
