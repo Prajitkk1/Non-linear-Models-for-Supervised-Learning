{
 "cells": [
  {
   "cell_type": "markdown",
   "metadata": {},
   "source": [
    "# problem set 4 - Q1"
   ]
  },
  {
   "cell_type": "markdown",
   "metadata": {},
   "source": [
    "1. Demonstrate that a neural network to maximize the log likelihood of label is one that has softmax output nodes and minimizes the criterion function of the negative log probability of training data set: "
   ]
  },
  {
   "cell_type": "markdown",
   "metadata": {},
   "source": [
    "Softmax function: \\\n",
    "The softmax function provides output values from 0 to 1 i.e. it normalises the given vector. \\\n",
    "This softmax function is used mostly in output layer of a neural network to predict probability for classification problems. \n"
   ]
  },
  {
   "cell_type": "markdown",
   "metadata": {},
   "source": [
    "Negative log likelihood: \\\n",
    "It is given by"
   ]
  },
  {
   "cell_type": "markdown",
   "metadata": {},
   "source": [
    "$$j_0 (w)= -logp({(x_n,t_n ):n=1,2,..};w)$$"
   ]
  },
  {
   "cell_type": "markdown",
   "metadata": {},
   "source": [
    "We need to find the local minimum of the loss function. The more the loss, it says higher the error rate. Our purpose is to reduce the loss with gradient descent. The negative log likelihood is low when the neural network predicts correct class and vice versa. "
   ]
  },
  {
   "cell_type": "markdown",
   "metadata": {},
   "source": [
    "Now in order to demonstrate we need to differentiate the negative log likelihood and sigmoid function using chain rule of derivation"
   ]
  },
  {
   "cell_type": "markdown",
   "metadata": {},
   "source": [
    "When we differentiate, we get  $1-(P_k)$"
   ]
  },
  {
   "cell_type": "markdown",
   "metadata": {},
   "source": [
    "2. A neural network to maximize the a posterior likelihood of observing the training data given a Gaussian prior of the weight distribution :"
   ]
  },
  {
   "cell_type": "markdown",
   "metadata": {},
   "source": [
    "Gaussian distribution is"
   ]
  },
  {
   "cell_type": "markdown",
   "metadata": {},
   "source": [
    "$$P(t│x;w)=N(t;y(x,w),β^{-1})$$"
   ]
  },
  {
   "cell_type": "markdown",
   "metadata": {},
   "source": [
    "The j(w) error can be defined as "
   ]
  },
  {
   "cell_type": "markdown",
   "metadata": {},
   "source": [
    "$$ j_0 (w)= -logp(D;w)= -∑_nlogp(t_n│x_n;w) = ∑_n||y(x_n;w)- t_n ||^2 $$"
   ]
  },
  {
   "cell_type": "markdown",
   "metadata": {},
   "source": [
    "The l2 regularizers tries to reduce the weights w excluding bias. The effect of L2 loss on weight is it reduces the higher values of weights. In L2 regularizers posterior likelihood of observing a class is used to reduce the weight."
   ]
  },
  {
   "cell_type": "markdown",
   "metadata": {},
   "source": [
    "# Part 2"
   ]
  },
  {
   "cell_type": "code",
   "execution_count": 1,
   "metadata": {},
   "outputs": [
    {
     "name": "stderr",
     "output_type": "stream",
     "text": [
      "Using TensorFlow backend.\n"
     ]
    }
   ],
   "source": [
    "import matplotlib.pyplot as plt\n",
    "import keras\n",
    "from keras.models import Sequential\n",
    "from keras.layers import Dense, Activation,Conv2D, Flatten"
   ]
  },
  {
   "cell_type": "code",
   "execution_count": 2,
   "metadata": {},
   "outputs": [],
   "source": [
    "import numpy as np"
   ]
  },
  {
   "cell_type": "code",
   "execution_count": 3,
   "metadata": {},
   "outputs": [],
   "source": [
    "from keras.optimizers import Adam"
   ]
  },
  {
   "cell_type": "code",
   "execution_count": 4,
   "metadata": {},
   "outputs": [],
   "source": [
    "from sklearn import metrics"
   ]
  },
  {
   "cell_type": "code",
   "execution_count": 5,
   "metadata": {},
   "outputs": [],
   "source": [
    "import mnist"
   ]
  },
  {
   "cell_type": "code",
   "execution_count": 21,
   "metadata": {},
   "outputs": [],
   "source": [
    "from keras.layers import Dropout,MaxPooling2D\n",
    "from keras.preprocessing.image import ImageDataGenerator\n",
    "import tensorflow as tf\n",
    "from keras.callbacks import LambdaCallback"
   ]
  },
  {
   "cell_type": "code",
   "execution_count": 81,
   "metadata": {},
   "outputs": [],
   "source": [
    "train_data = mnist.train_images()\n",
    "train_labels = mnist.train_labels()\n",
    "test_data = mnist.test_images()\n",
    "test_labels = mnist.test_labels()\n"
   ]
  },
  {
   "cell_type": "code",
   "execution_count": 82,
   "metadata": {},
   "outputs": [],
   "source": [
    "x_valid = train_data[50000:]\n",
    "y_valid = train_labels[50000:]"
   ]
  },
  {
   "cell_type": "code",
   "execution_count": 83,
   "metadata": {},
   "outputs": [
    {
     "data": {
      "text/plain": [
       "(10000, 28, 28)"
      ]
     },
     "execution_count": 83,
     "metadata": {},
     "output_type": "execute_result"
    }
   ],
   "source": [
    "x_valid.shape"
   ]
  },
  {
   "cell_type": "code",
   "execution_count": 84,
   "metadata": {},
   "outputs": [],
   "source": [
    "x_valid = x_valid.reshape(10000,784)\n",
    "x_valid = np.array(x_valid, dtype=np.float)"
   ]
  },
  {
   "cell_type": "code",
   "execution_count": 86,
   "metadata": {},
   "outputs": [
    {
     "data": {
      "text/plain": [
       "<matplotlib.image.AxesImage at 0x2642456dd48>"
      ]
     },
     "execution_count": 86,
     "metadata": {},
     "output_type": "execute_result"
    },
    {
     "data": {
      "image/png": "[encoded data removed]",
      "text/plain": [
       "<Figure size 432x288 with 1 Axes>"
      ]
     },
     "metadata": {
      "needs_background": "light"
     },
     "output_type": "display_data"
    }
   ],
   "source": [
    "plt.imshow(train_data[0])"
   ]
  },
  {
   "cell_type": "markdown",
   "metadata": {},
   "source": [
    "# 1 hidden layer "
   ]
  },
  {
   "cell_type": "code",
   "execution_count": 87,
   "metadata": {},
   "outputs": [],
   "source": [
    "#taking 100 images from every class\n",
    "#total 1000 images\n",
    "train_100 = []\n",
    "test_label_100 = []\n",
    "for i in range(10):\n",
    "    indexes_a = np.where(train_labels == i)[0]\n",
    "    for j in range(0,100):\n",
    "        train_100.append(train_data[indexes_a[j]])\n",
    "        test_label_100.append(i)"
   ]
  },
  {
   "cell_type": "code",
   "execution_count": 88,
   "metadata": {},
   "outputs": [],
   "source": [
    "train_100 = np.array(train_100, dtype=np.float64)\n",
    "test_label_100 = np.array(test_label_100, dtype=np.float64)"
   ]
  },
  {
   "cell_type": "code",
   "execution_count": 89,
   "metadata": {},
   "outputs": [
    {
     "data": {
      "text/plain": [
       "<matplotlib.image.AxesImage at 0x264231b4808>"
      ]
     },
     "execution_count": 89,
     "metadata": {},
     "output_type": "execute_result"
    },
    {
     "data": {
      "image/png": "[encoded data removed]",
      "text/plain": [
       "<Figure size 432x288 with 1 Axes>"
      ]
     },
     "metadata": {
      "needs_background": "light"
     },
     "output_type": "display_data"
    }
   ],
   "source": [
    "plt.imshow(train_100[200])"
   ]
  },
  {
   "cell_type": "code",
   "execution_count": 90,
   "metadata": {},
   "outputs": [
    {
     "data": {
      "text/plain": [
       "2.0"
      ]
     },
     "execution_count": 90,
     "metadata": {},
     "output_type": "execute_result"
    }
   ],
   "source": [
    "test_label_100[200]"
   ]
  },
  {
   "cell_type": "code",
   "execution_count": 91,
   "metadata": {},
   "outputs": [],
   "source": [
    "train_100 = train_100.reshape(1000,784)"
   ]
  },
  {
   "cell_type": "code",
   "execution_count": 92,
   "metadata": {},
   "outputs": [],
   "source": [
    "#normalising the data\n",
    "x_valid /= 255\n",
    "train_100 /= 255\n"
   ]
  },
  {
   "cell_type": "code",
   "execution_count": 144,
   "metadata": {},
   "outputs": [],
   "source": [
    "#calculating learning speed\n",
    "weights = []\n",
    "print_weights = LambdaCallback(on_epoch_end=lambda batch, logs: weights.append(model.layers[0].get_weights()))\n",
    "\n",
    "average = []\n",
    "class Learningspeed(keras.callbacks.Callback):\n",
    "    print_weights = LambdaCallback(on_epoch_end=lambda batch, logs: weights.append(model.layers[0].get_weights()))\n",
    "    def on_epoch_end(self, epoch, logs={}):\n",
    "        if epoch>=1:\n",
    "            try:\n",
    "                sub = np.absolute(np.array(weights[epoch-1] ) - np.array(weights[epoch]) / np.array(weights[epoch]))\n",
    "                average.append(np.average(np.average(sub)))\n",
    "            except:\n",
    "                average.append(1.0)\n",
    "        if epoch==0:\n",
    "            #weights = []\n",
    "            average.append(0)"
   ]
  },
  {
   "cell_type": "markdown",
   "metadata": {},
   "source": [
    "building neural network"
   ]
  },
  {
   "cell_type": "code",
   "execution_count": 132,
   "metadata": {
    "scrolled": true
   },
   "outputs": [
    {
     "name": "stdout",
     "output_type": "stream",
     "text": [
      "Train on 1000 samples, validate on 10000 samples\n",
      "Epoch 1/30\n",
      "1000/1000 [==============================] - 3s 3ms/step - loss: 1.9966 - accuracy: 0.4800 - val_loss: 1.6471 - val_accuracy: 0.6370\n",
      "Epoch 2/30\n",
      "1000/1000 [==============================] - 3s 3ms/step - loss: 1.5564 - accuracy: 0.6840 - val_loss: 1.5067 - val_accuracy: 0.6846\n",
      "Epoch 3/30\n",
      "1000/1000 [==============================] - 3s 3ms/step - loss: 1.0106 - accuracy: 0.7670 - val_loss: 1.4476 - val_accuracy: 0.7772\n",
      "Epoch 4/30\n",
      "1000/1000 [==============================] - 3s 3ms/step - loss: 0.8114 - accuracy: 0.8340 - val_loss: 1.3827 - val_accuracy: 0.8122\n",
      "Epoch 5/30\n",
      "1000/1000 [==============================] - 3s 3ms/step - loss: 0.7462 - accuracy: 0.8350 - val_loss: 1.3115 - val_accuracy: 0.7891\n",
      "Epoch 6/30\n",
      "1000/1000 [==============================] - 4s 4ms/step - loss: 0.7604 - accuracy: 0.8200 - val_loss: 1.3589 - val_accuracy: 0.8075\n",
      "Epoch 7/30\n",
      "1000/1000 [==============================] - 3s 3ms/step - loss: 0.5715 - accuracy: 0.8580 - val_loss: 1.3027 - val_accuracy: 0.7948\n",
      "Epoch 8/30\n",
      "1000/1000 [==============================] - 3s 3ms/step - loss: 0.6385 - accuracy: 0.8640 - val_loss: 1.4637 - val_accuracy: 0.8138\n",
      "Epoch 9/30\n",
      "1000/1000 [==============================] - 3s 3ms/step - loss: 0.6776 - accuracy: 0.8560 - val_loss: 1.3600 - val_accuracy: 0.8056\n",
      "Epoch 10/30\n",
      "1000/1000 [==============================] - 3s 3ms/step - loss: 0.5262 - accuracy: 0.8810 - val_loss: 1.2761 - val_accuracy: 0.8263\n",
      "Epoch 11/30\n",
      "1000/1000 [==============================] - 3s 3ms/step - loss: 0.4643 - accuracy: 0.8810 - val_loss: 1.2692 - val_accuracy: 0.8332\n",
      "Epoch 12/30\n",
      "1000/1000 [==============================] - 3s 3ms/step - loss: 0.4336 - accuracy: 0.8960 - val_loss: 1.3572 - val_accuracy: 0.8271\n",
      "Epoch 13/30\n",
      "1000/1000 [==============================] - 3s 3ms/step - loss: 0.4241 - accuracy: 0.9080 - val_loss: 1.4946 - val_accuracy: 0.8182\n",
      "Epoch 14/30\n",
      "1000/1000 [==============================] - 3s 3ms/step - loss: 0.4642 - accuracy: 0.9070 - val_loss: 1.3755 - val_accuracy: 0.8164\n",
      "Epoch 15/30\n",
      "1000/1000 [==============================] - 3s 3ms/step - loss: 0.5518 - accuracy: 0.8870 - val_loss: 1.3235 - val_accuracy: 0.8163\n",
      "Epoch 16/30\n",
      "1000/1000 [==============================] - 3s 3ms/step - loss: 0.3994 - accuracy: 0.9270 - val_loss: 1.7924 - val_accuracy: 0.7891\n",
      "Epoch 17/30\n",
      "1000/1000 [==============================] - 3s 3ms/step - loss: 0.5354 - accuracy: 0.8960 - val_loss: 1.9439 - val_accuracy: 0.7707\n",
      "Epoch 18/30\n",
      "1000/1000 [==============================] - 3s 3ms/step - loss: 0.5702 - accuracy: 0.8780 - val_loss: 1.3638 - val_accuracy: 0.8380\n",
      "Epoch 19/30\n",
      "1000/1000 [==============================] - 3s 3ms/step - loss: 0.4496 - accuracy: 0.9290 - val_loss: 1.3724 - val_accuracy: 0.8389\n",
      "Epoch 20/30\n",
      "1000/1000 [==============================] - 3s 3ms/step - loss: 0.4558 - accuracy: 0.9080 - val_loss: 1.2974 - val_accuracy: 0.8272\n",
      "Epoch 21/30\n",
      "1000/1000 [==============================] - 3s 3ms/step - loss: 0.4385 - accuracy: 0.9080 - val_loss: 1.3750 - val_accuracy: 0.8433\n",
      "Epoch 22/30\n",
      "1000/1000 [==============================] - 4s 4ms/step - loss: 0.4764 - accuracy: 0.8770 - val_loss: 1.5993 - val_accuracy: 0.6988\n",
      "Epoch 23/30\n",
      "1000/1000 [==============================] - 3s 3ms/step - loss: 0.4412 - accuracy: 0.9000 - val_loss: 1.4005 - val_accuracy: 0.8401\n",
      "Epoch 24/30\n",
      "1000/1000 [==============================] - 3s 3ms/step - loss: 0.4404 - accuracy: 0.9100 - val_loss: 1.4970 - val_accuracy: 0.7860\n",
      "Epoch 25/30\n",
      "1000/1000 [==============================] - 3s 3ms/step - loss: 0.4799 - accuracy: 0.8810 - val_loss: 1.5955 - val_accuracy: 0.8043\n",
      "Epoch 26/30\n",
      "1000/1000 [==============================] - 3s 3ms/step - loss: 0.4053 - accuracy: 0.9070 - val_loss: 1.4301 - val_accuracy: 0.8247\n",
      "Epoch 27/30\n",
      "1000/1000 [==============================] - 3s 3ms/step - loss: 0.3234 - accuracy: 0.9250 - val_loss: 1.5394 - val_accuracy: 0.8132\n",
      "Epoch 28/30\n",
      "1000/1000 [==============================] - 3s 3ms/step - loss: 0.3615 - accuracy: 0.9310 - val_loss: 1.7366 - val_accuracy: 0.8097\n",
      "Epoch 29/30\n",
      "1000/1000 [==============================] - 3s 3ms/step - loss: 0.4411 - accuracy: 0.9190 - val_loss: 1.4845 - val_accuracy: 0.7927\n",
      "Epoch 30/30\n",
      "1000/1000 [==============================] - 3s 3ms/step - loss: 0.4374 - accuracy: 0.9050 - val_loss: 1.5091 - val_accuracy: 0.8166\n"
     ]
    }
   ],
   "source": [
    "#single layer 2a\n",
    "weights = []\n",
    "average = []\n",
    "model = Sequential()\n",
    "model.add(Dense(30,activation=\"sigmoid\"))\n",
    "model.compile(optimizer=Adam(lr=0.1),loss='sparse_categorical_crossentropy', metrics=['accuracy'])\n",
    "model_hist = model.fit(train_100,test_label_100, epochs = 30, validation_data = (x_valid, y_valid),batch_size = 10,callbacks = [print_weights,Learningspeed()])\n"
   ]
  },
  {
   "cell_type": "code",
   "execution_count": 134,
   "metadata": {},
   "outputs": [
    {
     "data": {
      "text/plain": [
       "<matplotlib.axes._subplots.AxesSubplot at 0x264243b7f48>"
      ]
     },
     "execution_count": 134,
     "metadata": {},
     "output_type": "execute_result"
    },
    {
     "data": {
      "image/png": "[encoded data removed]",
      "text/plain": [
       "<Figure size 432x288 with 1 Axes>"
      ]
     },
     "metadata": {
      "needs_background": "light"
     },
     "output_type": "display_data"
    }
   ],
   "source": [
    "#using pandas framework reduces lot of code of matplotlib\n",
    "import pandas as pd\n",
    "df = pd.DataFrame()\n",
    "df['training_loss'] = model_hist.history['loss']\n",
    "df['validation loss'] = model_hist.history['val_loss']\n",
    "df['accuracy'] = model_hist.history['accuracy']\n",
    "df['learning speed'] = average\n",
    "df.plot()"
   ]
  },
  {
   "cell_type": "code",
   "execution_count": 149,
   "metadata": {},
   "outputs": [],
   "source": [
    "test_data = test_data.reshape(test_data.shape[0],784)"
   ]
  },
  {
   "cell_type": "code",
   "execution_count": 30,
   "metadata": {},
   "outputs": [],
   "source": [
    "#predict the accuracy\n",
    "yhat = np.argmax(model1.predict(test_data), axis=1)\n",
    "accuracy = metrics.accuracy_score(test_labels, yhat)"
   ]
  },
  {
   "cell_type": "code",
   "execution_count": 31,
   "metadata": {},
   "outputs": [
    {
     "data": {
      "text/plain": [
       "0.3133"
      ]
     },
     "execution_count": 31,
     "metadata": {},
     "output_type": "execute_result"
    }
   ],
   "source": [
    "accuracy"
   ]
  },
  {
   "cell_type": "code",
   "execution_count": 145,
   "metadata": {},
   "outputs": [
    {
     "name": "stdout",
     "output_type": "stream",
     "text": [
      "Train on 1000 samples, validate on 10000 samples\n",
      "Epoch 1/30\n",
      "1000/1000 [==============================] - 4s 4ms/step - loss: 2.2770 - accuracy: 0.1370 - val_loss: 1.9566 - val_accuracy: 0.2609\n",
      "Epoch 2/30\n",
      "1000/1000 [==============================] - 4s 4ms/step - loss: 1.6732 - accuracy: 0.3270 - val_loss: 1.6638 - val_accuracy: 0.3564\n",
      "Epoch 3/30\n",
      "1000/1000 [==============================] - 3s 3ms/step - loss: 1.5433 - accuracy: 0.3840 - val_loss: 1.5287 - val_accuracy: 0.4272\n",
      "Epoch 4/30\n",
      "1000/1000 [==============================] - 3s 3ms/step - loss: 1.3460 - accuracy: 0.4980 - val_loss: 1.3628 - val_accuracy: 0.5111\n",
      "Epoch 5/30\n",
      "1000/1000 [==============================] - 3s 3ms/step - loss: 1.2867 - accuracy: 0.5320 - val_loss: 1.2247 - val_accuracy: 0.5601\n",
      "Epoch 6/30\n",
      "1000/1000 [==============================] - 3s 3ms/step - loss: 1.1663 - accuracy: 0.5790 - val_loss: 1.1558 - val_accuracy: 0.6477\n",
      "Epoch 7/30\n",
      "1000/1000 [==============================] - 3s 3ms/step - loss: 1.1594 - accuracy: 0.5930 - val_loss: 1.1600 - val_accuracy: 0.6180\n",
      "Epoch 8/30\n",
      "1000/1000 [==============================] - 3s 3ms/step - loss: 1.1983 - accuracy: 0.5560 - val_loss: 1.1867 - val_accuracy: 0.5906\n",
      "Epoch 9/30\n",
      "1000/1000 [==============================] - 3s 3ms/step - loss: 1.1744 - accuracy: 0.5910 - val_loss: 1.3251 - val_accuracy: 0.5977\n",
      "Epoch 10/30\n",
      "1000/1000 [==============================] - 3s 3ms/step - loss: 1.2652 - accuracy: 0.5810 - val_loss: 1.3436 - val_accuracy: 0.5498\n",
      "Epoch 11/30\n",
      "1000/1000 [==============================] - 3s 3ms/step - loss: 1.1806 - accuracy: 0.5950 - val_loss: 1.4579 - val_accuracy: 0.4614\n",
      "Epoch 12/30\n",
      "1000/1000 [==============================] - 3s 3ms/step - loss: 1.3674 - accuracy: 0.4970 - val_loss: 1.2703 - val_accuracy: 0.4859\n",
      "Epoch 13/30\n",
      "1000/1000 [==============================] - 3s 3ms/step - loss: 1.1850 - accuracy: 0.5740 - val_loss: 1.1644 - val_accuracy: 0.6039\n",
      "Epoch 14/30\n",
      "1000/1000 [==============================] - 3s 3ms/step - loss: 1.0894 - accuracy: 0.6120 - val_loss: 1.0894 - val_accuracy: 0.6081\n",
      "Epoch 15/30\n",
      "1000/1000 [==============================] - 3s 3ms/step - loss: 1.1506 - accuracy: 0.6140 - val_loss: 1.1009 - val_accuracy: 0.6089\n",
      "Epoch 16/30\n",
      "1000/1000 [==============================] - 3s 3ms/step - loss: 1.0815 - accuracy: 0.6350 - val_loss: 1.0918 - val_accuracy: 0.6412\n",
      "Epoch 17/30\n",
      "1000/1000 [==============================] - 3s 3ms/step - loss: 1.1455 - accuracy: 0.6080 - val_loss: 1.3045 - val_accuracy: 0.5601\n",
      "Epoch 18/30\n",
      "1000/1000 [==============================] - 3s 3ms/step - loss: 1.2408 - accuracy: 0.5850 - val_loss: 1.3389 - val_accuracy: 0.5988\n",
      "Epoch 19/30\n",
      "1000/1000 [==============================] - 4s 4ms/step - loss: 1.0718 - accuracy: 0.6520 - val_loss: 1.1999 - val_accuracy: 0.5557\n",
      "Epoch 20/30\n",
      "1000/1000 [==============================] - 4s 4ms/step - loss: 1.0393 - accuracy: 0.6560 - val_loss: 1.0448 - val_accuracy: 0.6795\n",
      "Epoch 21/30\n",
      "1000/1000 [==============================] - 3s 3ms/step - loss: 1.0433 - accuracy: 0.6840 - val_loss: 1.0511 - val_accuracy: 0.6778\n",
      "Epoch 22/30\n",
      "1000/1000 [==============================] - 3s 3ms/step - loss: 0.9951 - accuracy: 0.7020 - val_loss: 1.1169 - val_accuracy: 0.6663\n",
      "Epoch 23/30\n",
      "1000/1000 [==============================] - 3s 3ms/step - loss: 0.8453 - accuracy: 0.7420 - val_loss: 1.1245 - val_accuracy: 0.6518\n",
      "Epoch 24/30\n",
      "1000/1000 [==============================] - 3s 3ms/step - loss: 0.9278 - accuracy: 0.6990 - val_loss: 1.0608 - val_accuracy: 0.6235\n",
      "Epoch 25/30\n",
      "1000/1000 [==============================] - 3s 3ms/step - loss: 0.9212 - accuracy: 0.7060 - val_loss: 1.1214 - val_accuracy: 0.6807\n",
      "Epoch 26/30\n",
      "1000/1000 [==============================] - 4s 4ms/step - loss: 1.1778 - accuracy: 0.6190 - val_loss: 1.4017 - val_accuracy: 0.5791\n",
      "Epoch 27/30\n",
      "1000/1000 [==============================] - 3s 3ms/step - loss: 1.2185 - accuracy: 0.6210 - val_loss: 1.1355 - val_accuracy: 0.6604\n",
      "Epoch 28/30\n",
      "1000/1000 [==============================] - 4s 4ms/step - loss: 1.0361 - accuracy: 0.7070 - val_loss: 1.0713 - val_accuracy: 0.6764\n",
      "Epoch 29/30\n",
      "1000/1000 [==============================] - 3s 3ms/step - loss: 0.9734 - accuracy: 0.7080 - val_loss: 1.0769 - val_accuracy: 0.6528\n",
      "Epoch 30/30\n",
      "1000/1000 [==============================] - 4s 4ms/step - loss: 0.9576 - accuracy: 0.7070 - val_loss: 1.0298 - val_accuracy: 0.6915\n"
     ]
    }
   ],
   "source": [
    "#Two layers\n",
    "weights = []\n",
    "average = []\n",
    "model = Sequential()\n",
    "model.add(Dense(30,activation=\"sigmoid\"))\n",
    "model.add(Dense(30,activation=\"sigmoid\"))\n",
    "model.add(Dense(10,activation=\"softmax\"))\n",
    "model.compile(optimizer=Adam(lr=0.1),loss='sparse_categorical_crossentropy', metrics=['accuracy'])\n",
    "model2_hist = model.fit(train_100,test_label_100, epochs = 30, validation_data = (x_valid, y_valid),batch_size = 10,callbacks = [print_weights,Learningspeed()])\n"
   ]
  },
  {
   "cell_type": "code",
   "execution_count": 147,
   "metadata": {},
   "outputs": [
    {
     "data": {
      "text/plain": [
       "<matplotlib.axes._subplots.AxesSubplot at 0x264b7bcd988>"
      ]
     },
     "execution_count": 147,
     "metadata": {},
     "output_type": "execute_result"
    },
    {
     "data": {
      "image/png": "[encoded data removed]",
      "text/plain": [
       "<Figure size 432x288 with 1 Axes>"
      ]
     },
     "metadata": {
      "needs_background": "light"
     },
     "output_type": "display_data"
    }
   ],
   "source": [
    "df = pd.DataFrame()\n",
    "df['training_loss'] = model2_hist.history['loss']\n",
    "df['validation loss'] = model2_hist.history['val_loss']\n",
    "df['accuracy'] = model2_hist.history['accuracy']\n",
    "df['training speed'] = average\n",
    "df.plot()"
   ]
  },
  {
   "cell_type": "code",
   "execution_count": 150,
   "metadata": {},
   "outputs": [
    {
     "name": "stdout",
     "output_type": "stream",
     "text": [
      "0.6763\n"
     ]
    }
   ],
   "source": [
    "#accuracy using 2 layers\n",
    "yhat = np.argmax(model.predict(test_data), axis=1)\n",
    "accuracy = metrics.accuracy_score(test_labels, yhat)\n",
    "print(accuracy)"
   ]
  },
  {
   "cell_type": "code",
   "execution_count": 42,
   "metadata": {
    "scrolled": true
   },
   "outputs": [
    {
     "name": "stdout",
     "output_type": "stream",
     "text": [
      "Train on 1000 samples, validate on 10000 samples\n",
      "Epoch 1/30\n",
      "1000/1000 [==============================] - 4s 4ms/step - loss: 2.1965 - accuracy: 0.1340 - val_loss: 2.1145 - val_accuracy: 0.1780\n",
      "Epoch 2/30\n",
      "1000/1000 [==============================] - 3s 3ms/step - loss: 1.9818 - accuracy: 0.1750 - val_loss: 1.9222 - val_accuracy: 0.1812\n",
      "Epoch 3/30\n",
      "1000/1000 [==============================] - 3s 3ms/step - loss: 2.0426 - accuracy: 0.1610 - val_loss: 1.9291 - val_accuracy: 0.1906\n",
      "Epoch 4/30\n",
      "1000/1000 [==============================] - 3s 3ms/step - loss: 1.9604 - accuracy: 0.1860 - val_loss: 1.9487 - val_accuracy: 0.1891\n",
      "Epoch 5/30\n",
      "1000/1000 [==============================] - 4s 4ms/step - loss: 1.9413 - accuracy: 0.1630 - val_loss: 1.9012 - val_accuracy: 0.1880\n",
      "Epoch 6/30\n",
      "1000/1000 [==============================] - 4s 4ms/step - loss: 1.9516 - accuracy: 0.2060 - val_loss: 2.2646 - val_accuracy: 0.1641\n",
      "Epoch 7/30\n",
      "1000/1000 [==============================] - 4s 4ms/step - loss: 2.0157 - accuracy: 0.1740 - val_loss: 1.9197 - val_accuracy: 0.2059\n",
      "Epoch 8/30\n",
      "1000/1000 [==============================] - 3s 3ms/step - loss: 1.9621 - accuracy: 0.1680 - val_loss: 2.0419 - val_accuracy: 0.1783\n",
      "Epoch 9/30\n",
      "1000/1000 [==============================] - 3s 3ms/step - loss: 1.9873 - accuracy: 0.1890 - val_loss: 2.1659 - val_accuracy: 0.1560\n",
      "Epoch 10/30\n",
      "1000/1000 [==============================] - 3s 3ms/step - loss: 1.9284 - accuracy: 0.1920 - val_loss: 1.9425 - val_accuracy: 0.1997\n",
      "Epoch 11/30\n",
      "1000/1000 [==============================] - 4s 4ms/step - loss: 1.9880 - accuracy: 0.1620 - val_loss: 2.0092 - val_accuracy: 0.1856\n",
      "Epoch 12/30\n",
      "1000/1000 [==============================] - 4s 4ms/step - loss: 2.0041 - accuracy: 0.1740 - val_loss: 2.0826 - val_accuracy: 0.1892\n",
      "Epoch 13/30\n",
      "1000/1000 [==============================] - 4s 4ms/step - loss: 2.0221 - accuracy: 0.1890 - val_loss: 2.0245 - val_accuracy: 0.1977\n",
      "Epoch 14/30\n",
      "1000/1000 [==============================] - 3s 3ms/step - loss: 1.9609 - accuracy: 0.1950 - val_loss: 1.9775 - val_accuracy: 0.1827\n",
      "Epoch 15/30\n",
      "1000/1000 [==============================] - 3s 3ms/step - loss: 1.9668 - accuracy: 0.2010 - val_loss: 1.9278 - val_accuracy: 0.1876\n",
      "Epoch 16/30\n",
      "1000/1000 [==============================] - 4s 4ms/step - loss: 1.9611 - accuracy: 0.1940 - val_loss: 2.0457 - val_accuracy: 0.1762\n",
      "Epoch 17/30\n",
      "1000/1000 [==============================] - 5s 5ms/step - loss: 2.0459 - accuracy: 0.1830 - val_loss: 2.0265 - val_accuracy: 0.1851\n",
      "Epoch 18/30\n",
      "1000/1000 [==============================] - 3s 3ms/step - loss: 1.9697 - accuracy: 0.1870 - val_loss: 2.0034 - val_accuracy: 0.1623\n",
      "Epoch 19/30\n",
      "1000/1000 [==============================] - 3s 3ms/step - loss: 1.9762 - accuracy: 0.1650 - val_loss: 2.0241 - val_accuracy: 0.1814\n",
      "Epoch 20/30\n",
      "1000/1000 [==============================] - 4s 4ms/step - loss: 2.0087 - accuracy: 0.1570 - val_loss: 1.9061 - val_accuracy: 0.2075\n",
      "Epoch 21/30\n",
      "1000/1000 [==============================] - 3s 3ms/step - loss: 1.9885 - accuracy: 0.1870 - val_loss: 2.1036 - val_accuracy: 0.1765\n",
      "Epoch 22/30\n",
      "1000/1000 [==============================] - 3s 3ms/step - loss: 2.1955 - accuracy: 0.1580 - val_loss: 2.2030 - val_accuracy: 0.1980\n",
      "Epoch 23/30\n",
      "1000/1000 [==============================] - 3s 3ms/step - loss: 2.1332 - accuracy: 0.1630 - val_loss: 2.0216 - val_accuracy: 0.2093\n",
      "Epoch 24/30\n",
      "1000/1000 [==============================] - 3s 3ms/step - loss: 2.0274 - accuracy: 0.1820 - val_loss: 1.9217 - val_accuracy: 0.1881\n",
      "Epoch 25/30\n",
      "1000/1000 [==============================] - 3s 3ms/step - loss: 1.9945 - accuracy: 0.1750 - val_loss: 2.0020 - val_accuracy: 0.1855\n",
      "Epoch 26/30\n",
      "1000/1000 [==============================] - 3s 3ms/step - loss: 1.9755 - accuracy: 0.2110 - val_loss: 2.0219 - val_accuracy: 0.1985\n",
      "Epoch 27/30\n",
      "1000/1000 [==============================] - 3s 3ms/step - loss: 2.0516 - accuracy: 0.1890 - val_loss: 1.9937 - val_accuracy: 0.1886\n",
      "Epoch 28/30\n",
      "1000/1000 [==============================] - 3s 3ms/step - loss: 1.9777 - accuracy: 0.1870 - val_loss: 1.9921 - val_accuracy: 0.2033\n",
      "Epoch 29/30\n",
      "1000/1000 [==============================] - 3s 3ms/step - loss: 1.9497 - accuracy: 0.1830 - val_loss: 1.9807 - val_accuracy: 0.1986\n",
      "Epoch 30/30\n",
      "1000/1000 [==============================] - 3s 3ms/step - loss: 2.0516 - accuracy: 0.1870 - val_loss: 1.9602 - val_accuracy: 0.1865\n"
     ]
    }
   ],
   "source": [
    "#3 hidden layer\n",
    "average = []\n",
    "weights = []\n",
    "model = Sequential()\n",
    "model.add(Dense(30,activation=\"sigmoid\"))\n",
    "model.add(Dense(30,activation=\"sigmoid\"))\n",
    "model.add(Dense(30,activation=\"sigmoid\"))\n",
    "model.add(Dense(10,activation=\"softmax\"))\n",
    "model.compile(optimizer=Adam(lr=0.1),loss='sparse_categorical_crossentropy', metrics=['accuracy'])\n",
    "model3_hist = model.fit(train_100,test_label_100, validation_data = (x_valid, y_valid),epochs = 30,batch_size = 10,callbacks = [print_weights,Learningspeed()])"
   ]
  },
  {
   "cell_type": "code",
   "execution_count": 43,
   "metadata": {},
   "outputs": [
    {
     "data": {
      "text/plain": [
       "<matplotlib.axes._subplots.AxesSubplot at 0x264a7222808>"
      ]
     },
     "execution_count": 43,
     "metadata": {},
     "output_type": "execute_result"
    },
    {
     "data": {
      "image/png": "[encoded data removed]",
      "text/plain": [
       "<Figure size 432x288 with 1 Axes>"
      ]
     },
     "metadata": {
      "needs_background": "light"
     },
     "output_type": "display_data"
    }
   ],
   "source": [
    "df = pd.DataFrame()\n",
    "df['training_loss'] = model3_hist.history['loss']\n",
    "df['validation loss'] = model3_hist.history['val_loss']\n",
    "df['accuracy'] = model3_hist.history['accuracy']\n",
    "df['training speed'] = average\n",
    "df.plot()"
   ]
  },
  {
   "cell_type": "code",
   "execution_count": 44,
   "metadata": {},
   "outputs": [
    {
     "name": "stdout",
     "output_type": "stream",
     "text": [
      "0.1009\n"
     ]
    }
   ],
   "source": [
    "yhat = np.argmax(model3.predict(test_data), axis=1)\n",
    "accuracy = metrics.accuracy_score(test_labels, yhat)\n",
    "print(accuracy)"
   ]
  },
  {
   "cell_type": "markdown",
   "metadata": {},
   "source": [
    "#1 layer with regularisation"
   ]
  },
  {
   "cell_type": "code",
   "execution_count": 45,
   "metadata": {},
   "outputs": [],
   "source": [
    "from keras import regularizers"
   ]
  },
  {
   "cell_type": "code",
   "execution_count": 57,
   "metadata": {},
   "outputs": [
    {
     "name": "stdout",
     "output_type": "stream",
     "text": [
      "Train on 1000 samples, validate on 10000 samples\n",
      "Epoch 1/30\n",
      "1000/1000 [==============================] - 4s 4ms/step - loss: 30.1768 - accuracy: 0.0950 - val_loss: 2.3408 - val_accuracy: 0.0983\n",
      "Epoch 2/30\n",
      "1000/1000 [==============================] - 3s 3ms/step - loss: 2.3554 - accuracy: 0.1000 - val_loss: 2.3246 - val_accuracy: 0.1009\n",
      "Epoch 3/30\n",
      "1000/1000 [==============================] - 3s 3ms/step - loss: 2.3346 - accuracy: 0.1040 - val_loss: 2.3361 - val_accuracy: 0.0967\n",
      "Epoch 4/30\n",
      "1000/1000 [==============================] - 3s 3ms/step - loss: 2.3313 - accuracy: 0.0980 - val_loss: 2.3219 - val_accuracy: 0.0961\n",
      "Epoch 5/30\n",
      "1000/1000 [==============================] - 3s 3ms/step - loss: 2.3419 - accuracy: 0.0960 - val_loss: 2.3257 - val_accuracy: 0.1030\n",
      "Epoch 6/30\n",
      "1000/1000 [==============================] - 3s 3ms/step - loss: 2.3294 - accuracy: 0.0760 - val_loss: 2.3306 - val_accuracy: 0.0967\n",
      "Epoch 7/30\n",
      "1000/1000 [==============================] - 4s 4ms/step - loss: 2.3300 - accuracy: 0.1040 - val_loss: 2.3196 - val_accuracy: 0.0961\n",
      "Epoch 8/30\n",
      "1000/1000 [==============================] - 3s 3ms/step - loss: 2.3305 - accuracy: 0.0950 - val_loss: 2.3082 - val_accuracy: 0.1064\n",
      "Epoch 9/30\n",
      "1000/1000 [==============================] - 3s 3ms/step - loss: 2.3303 - accuracy: 0.0940 - val_loss: 2.3223 - val_accuracy: 0.0967\n",
      "Epoch 10/30\n",
      "1000/1000 [==============================] - 3s 3ms/step - loss: 2.3289 - accuracy: 0.0990 - val_loss: 2.3313 - val_accuracy: 0.0915\n",
      "Epoch 11/30\n",
      "1000/1000 [==============================] - 3s 3ms/step - loss: 2.3353 - accuracy: 0.0940 - val_loss: 2.3178 - val_accuracy: 0.1030\n",
      "Epoch 12/30\n",
      "1000/1000 [==============================] - 3s 3ms/step - loss: 2.3507 - accuracy: 0.0850 - val_loss: 2.4123 - val_accuracy: 0.1009\n",
      "Epoch 13/30\n",
      "1000/1000 [==============================] - 3s 3ms/step - loss: 2.5475 - accuracy: 0.0820 - val_loss: 2.5352 - val_accuracy: 0.0990\n",
      "Epoch 14/30\n",
      "1000/1000 [==============================] - 3s 3ms/step - loss: 3.1587 - accuracy: 0.0830 - val_loss: 3.2042 - val_accuracy: 0.0990\n",
      "Epoch 15/30\n",
      "1000/1000 [==============================] - 3s 3ms/step - loss: 3.0870 - accuracy: 0.0770 - val_loss: 3.1464 - val_accuracy: 0.1030\n",
      "Epoch 16/30\n",
      "1000/1000 [==============================] - 3s 3ms/step - loss: 3.0900 - accuracy: 0.0960 - val_loss: 3.1712 - val_accuracy: 0.0983\n",
      "Epoch 17/30\n",
      "1000/1000 [==============================] - 3s 3ms/step - loss: 3.2033 - accuracy: 0.0950 - val_loss: 3.2628 - val_accuracy: 0.0990\n",
      "Epoch 18/30\n",
      "1000/1000 [==============================] - 3s 3ms/step - loss: 3.2917 - accuracy: 0.1070 - val_loss: 3.3417 - val_accuracy: 0.0915\n",
      "Epoch 19/30\n",
      "1000/1000 [==============================] - 3s 3ms/step - loss: 3.3391 - accuracy: 0.0940 - val_loss: 3.3243 - val_accuracy: 0.0991\n",
      "Epoch 20/30\n",
      "1000/1000 [==============================] - 3s 3ms/step - loss: 3.1658 - accuracy: 0.0870 - val_loss: 3.1373 - val_accuracy: 0.1009\n",
      "Epoch 21/30\n",
      "1000/1000 [==============================] - 4s 4ms/step - loss: 3.1308 - accuracy: 0.0920 - val_loss: 3.1092 - val_accuracy: 0.0915\n",
      "Epoch 22/30\n",
      "1000/1000 [==============================] - 3s 3ms/step - loss: 3.1172 - accuracy: 0.0950 - val_loss: 3.0055 - val_accuracy: 0.0991\n",
      "Epoch 23/30\n",
      "1000/1000 [==============================] - 4s 4ms/step - loss: 3.2275 - accuracy: 0.0880 - val_loss: 3.3252 - val_accuracy: 0.1064\n",
      "Epoch 24/30\n",
      "1000/1000 [==============================] - 3s 3ms/step - loss: 3.2621 - accuracy: 0.0880 - val_loss: 3.1618 - val_accuracy: 0.1090\n",
      "Epoch 25/30\n",
      "1000/1000 [==============================] - 3s 3ms/step - loss: 3.1946 - accuracy: 0.0840 - val_loss: 3.1856 - val_accuracy: 0.0990\n",
      "Epoch 26/30\n",
      "1000/1000 [==============================] - 3s 3ms/step - loss: 3.1487 - accuracy: 0.1120 - val_loss: 3.0649 - val_accuracy: 0.0961\n",
      "Epoch 27/30\n",
      "1000/1000 [==============================] - 3s 3ms/step - loss: 3.1601 - accuracy: 0.0800 - val_loss: 3.1484 - val_accuracy: 0.0961\n",
      "Epoch 28/30\n",
      "1000/1000 [==============================] - 3s 3ms/step - loss: 3.1875 - accuracy: 0.0980 - val_loss: 3.2189 - val_accuracy: 0.1090\n",
      "Epoch 29/30\n",
      "1000/1000 [==============================] - 3s 3ms/step - loss: 3.2095 - accuracy: 0.1000 - val_loss: 3.3061 - val_accuracy: 0.1009\n",
      "Epoch 30/30\n",
      "1000/1000 [==============================] - 3s 3ms/step - loss: 3.2464 - accuracy: 0.1030 - val_loss: 3.3406 - val_accuracy: 0.0967\n"
     ]
    }
   ],
   "source": [
    "#1 layer regularisation\n",
    "average = []\n",
    "weights = []\n",
    "model = Sequential()\n",
    "model.add(Dense(30,activation=\"sigmoid\",kernel_regularizer=regularizers.l2(5)))\n",
    "\n",
    "model.add(Dense(10,activation=\"softmax\"))\n",
    "model.compile(optimizer=Adam(lr=0.1),loss='sparse_categorical_crossentropy', metrics=['accuracy'])\n",
    "model4_hist = model.fit(train_100,test_label_100, validation_data = (x_valid, y_valid), epochs = 30,batch_size = 10,callbacks = [print_weights,Learningspeed()])"
   ]
  },
  {
   "cell_type": "code",
   "execution_count": 58,
   "metadata": {},
   "outputs": [
    {
     "data": {
      "text/plain": [
       "<matplotlib.axes._subplots.AxesSubplot at 0x264af902988>"
      ]
     },
     "execution_count": 58,
     "metadata": {},
     "output_type": "execute_result"
    },
    {
     "data": {
      "image/png": "[encoded data removed]",
      "text/plain": [
       "<Figure size 432x288 with 1 Axes>"
      ]
     },
     "metadata": {
      "needs_background": "light"
     },
     "output_type": "display_data"
    }
   ],
   "source": [
    "df = pd.DataFrame()\n",
    "df['training_loss'] = model4_hist.history['loss']\n",
    "df['validation loss'] = model4_hist.history['val_loss']\n",
    "df['accuracy'] = model4_hist.history['accuracy']\n",
    "df['learning speed'] = average\n",
    "df.plot(grid=True)"
   ]
  },
  {
   "cell_type": "code",
   "execution_count": 59,
   "metadata": {},
   "outputs": [
    {
     "name": "stdout",
     "output_type": "stream",
     "text": [
      "0.1319\n"
     ]
    }
   ],
   "source": [
    "yhat = np.argmax(model.predict(test_data), axis=1)\n",
    "accuracy = metrics.accuracy_score(test_labels, yhat)\n",
    "print(accuracy)"
   ]
  },
  {
   "cell_type": "code",
   "execution_count": 60,
   "metadata": {},
   "outputs": [
    {
     "name": "stdout",
     "output_type": "stream",
     "text": [
      "Train on 1000 samples, validate on 10000 samples\n",
      "Epoch 1/30\n",
      "1000/1000 [==============================] - 5s 5ms/step - loss: 35.5323 - accuracy: 0.0890 - val_loss: 2.3284 - val_accuracy: 0.1030\n",
      "Epoch 2/30\n",
      "1000/1000 [==============================] - 4s 4ms/step - loss: 2.3320 - accuracy: 0.1020 - val_loss: 2.3372 - val_accuracy: 0.0967\n",
      "Epoch 3/30\n",
      "1000/1000 [==============================] - 4s 4ms/step - loss: 2.3382 - accuracy: 0.1070 - val_loss: 2.3253 - val_accuracy: 0.0991\n",
      "Epoch 4/30\n",
      "1000/1000 [==============================] - 5s 5ms/step - loss: 2.3340 - accuracy: 0.0860 - val_loss: 2.3144 - val_accuracy: 0.0915\n",
      "Epoch 5/30\n",
      "1000/1000 [==============================] - 4s 4ms/step - loss: 2.3272 - accuracy: 0.0930 - val_loss: 2.3177 - val_accuracy: 0.1064\n",
      "Epoch 6/30\n",
      "1000/1000 [==============================] - 4s 4ms/step - loss: 2.3314 - accuracy: 0.1000 - val_loss: 2.3150 - val_accuracy: 0.0967\n",
      "Epoch 7/30\n",
      "1000/1000 [==============================] - 4s 4ms/step - loss: 2.3395 - accuracy: 0.0880 - val_loss: 2.3310 - val_accuracy: 0.0991\n",
      "Epoch 8/30\n",
      "1000/1000 [==============================] - 4s 4ms/step - loss: 2.3290 - accuracy: 0.0810 - val_loss: 2.3163 - val_accuracy: 0.0967\n",
      "Epoch 9/30\n",
      "1000/1000 [==============================] - 4s 4ms/step - loss: 2.3319 - accuracy: 0.0840 - val_loss: 2.3178 - val_accuracy: 0.1009\n",
      "Epoch 10/30\n",
      "1000/1000 [==============================] - 4s 4ms/step - loss: 2.3246 - accuracy: 0.1070 - val_loss: 2.3221 - val_accuracy: 0.0961\n",
      "Epoch 11/30\n",
      "1000/1000 [==============================] - 3s 3ms/step - loss: 2.3372 - accuracy: 0.1030 - val_loss: 2.3253 - val_accuracy: 0.1090\n",
      "Epoch 12/30\n",
      "1000/1000 [==============================] - 3s 3ms/step - loss: 2.3291 - accuracy: 0.1010 - val_loss: 2.3452 - val_accuracy: 0.0983\n",
      "Epoch 13/30\n",
      "1000/1000 [==============================] - 3s 3ms/step - loss: 2.8158 - accuracy: 0.0830 - val_loss: 2.7345 - val_accuracy: 0.0990\n",
      "Epoch 14/30\n",
      "1000/1000 [==============================] - 5s 5ms/step - loss: 3.1955 - accuracy: 0.0810 - val_loss: 3.0589 - val_accuracy: 0.0915\n",
      "Epoch 15/30\n",
      "1000/1000 [==============================] - 4s 4ms/step - loss: 3.0074 - accuracy: 0.1010 - val_loss: 3.1229 - val_accuracy: 0.0967\n",
      "Epoch 16/30\n",
      "1000/1000 [==============================] - 4s 4ms/step - loss: 3.2722 - accuracy: 0.0920 - val_loss: 3.3943 - val_accuracy: 0.1090\n",
      "Epoch 17/30\n",
      "1000/1000 [==============================] - 3s 3ms/step - loss: 3.3046 - accuracy: 0.0830 - val_loss: 3.2903 - val_accuracy: 0.1090\n",
      "Epoch 18/30\n",
      "1000/1000 [==============================] - 4s 4ms/step - loss: 3.2954 - accuracy: 0.0980 - val_loss: 3.3090 - val_accuracy: 0.0991\n",
      "Epoch 19/30\n",
      "1000/1000 [==============================] - 4s 4ms/step - loss: 3.3936 - accuracy: 0.0820 - val_loss: 3.3675 - val_accuracy: 0.0915\n",
      "Epoch 20/30\n",
      "1000/1000 [==============================] - 4s 4ms/step - loss: 3.2743 - accuracy: 0.1010 - val_loss: 3.2075 - val_accuracy: 0.1064\n",
      "Epoch 21/30\n",
      "1000/1000 [==============================] - 4s 4ms/step - loss: 3.1839 - accuracy: 0.0830 - val_loss: 3.1873 - val_accuracy: 0.1064\n",
      "Epoch 22/30\n",
      "1000/1000 [==============================] - 4s 4ms/step - loss: 3.1381 - accuracy: 0.0870 - val_loss: 3.0190 - val_accuracy: 0.0967\n",
      "Epoch 23/30\n",
      "1000/1000 [==============================] - 4s 4ms/step - loss: 3.2808 - accuracy: 0.0940 - val_loss: 3.3755 - val_accuracy: 0.0990\n",
      "Epoch 24/30\n",
      "1000/1000 [==============================] - 4s 4ms/step - loss: 3.2991 - accuracy: 0.0800 - val_loss: 3.2416 - val_accuracy: 0.1009\n",
      "Epoch 25/30\n",
      "1000/1000 [==============================] - 3s 3ms/step - loss: 3.2177 - accuracy: 0.0840 - val_loss: 3.2178 - val_accuracy: 0.0961\n",
      "Epoch 26/30\n",
      "1000/1000 [==============================] - 3s 3ms/step - loss: 3.2186 - accuracy: 0.0790 - val_loss: 3.2193 - val_accuracy: 0.1030\n",
      "Epoch 27/30\n",
      "1000/1000 [==============================] - 3s 3ms/step - loss: 3.2149 - accuracy: 0.0950 - val_loss: 3.2264 - val_accuracy: 0.0967\n",
      "Epoch 28/30\n",
      "1000/1000 [==============================] - 4s 4ms/step - loss: 3.2041 - accuracy: 0.0920 - val_loss: 3.2478 - val_accuracy: 0.0915\n",
      "Epoch 29/30\n",
      "1000/1000 [==============================] - 4s 4ms/step - loss: 3.2716 - accuracy: 0.1060 - val_loss: 3.3102 - val_accuracy: 0.1030\n",
      "Epoch 30/30\n",
      "1000/1000 [==============================] - 4s 4ms/step - loss: 3.3016 - accuracy: 0.0860 - val_loss: 3.5175 - val_accuracy: 0.0991\n"
     ]
    }
   ],
   "source": [
    "#2 layer regularisation\n",
    "average = []\n",
    "weights = []\n",
    "model = Sequential()\n",
    "model.add(Dense(30,activation=\"sigmoid\",kernel_regularizer=regularizers.l2(5)))\n",
    "model.add(Dense(30,activation=\"sigmoid\",kernel_regularizer=regularizers.l2(5)))\n",
    "model.add(Dense(10,activation=\"softmax\"))\n",
    "model.compile(optimizer=Adam(lr=0.1),loss='sparse_categorical_crossentropy', metrics=['accuracy'])\n",
    "model5_hist = model.fit(train_100,test_label_100, validation_data = (x_valid, y_valid), epochs = 30,batch_size = 10,callbacks = [print_weights,Learningspeed()])"
   ]
  },
  {
   "cell_type": "code",
   "execution_count": 61,
   "metadata": {},
   "outputs": [
    {
     "data": {
      "text/plain": [
       "<matplotlib.axes._subplots.AxesSubplot at 0x264b0b15508>"
      ]
     },
     "execution_count": 61,
     "metadata": {},
     "output_type": "execute_result"
    },
    {
     "data": {
      "image/png": "[encoded data removed]",
      "text/plain": [
       "<Figure size 432x288 with 1 Axes>"
      ]
     },
     "metadata": {
      "needs_background": "light"
     },
     "output_type": "display_data"
    }
   ],
   "source": [
    "df = pd.DataFrame()\n",
    "df['training_loss'] = model5_hist.history['loss']\n",
    "df['accuracy'] = model5_hist.history['accuracy']\n",
    "df['validation loss'] = model5_hist.history['val_loss']\n",
    "df['training speed'] = average\n",
    "df.plot(grid=True)"
   ]
  },
  {
   "cell_type": "code",
   "execution_count": 63,
   "metadata": {},
   "outputs": [
    {
     "name": "stdout",
     "output_type": "stream",
     "text": [
      "0.0958\n"
     ]
    }
   ],
   "source": [
    "yhat = np.argmax(model5.predict(test_data), axis=1)\n",
    "accuracy = metrics.accuracy_score(test_labels, yhat)\n",
    "print(accuracy)"
   ]
  },
  {
   "cell_type": "code",
   "execution_count": 64,
   "metadata": {},
   "outputs": [
    {
     "name": "stdout",
     "output_type": "stream",
     "text": [
      "Train on 1000 samples, validate on 10000 samples\n",
      "Epoch 1/30\n",
      "1000/1000 [==============================] - 4s 4ms/step - loss: 34.9830 - accuracy: 0.0960 - val_loss: 2.3233 - val_accuracy: 0.0990\n",
      "Epoch 2/30\n",
      "1000/1000 [==============================] - 4s 4ms/step - loss: 2.3461 - accuracy: 0.0910 - val_loss: 2.3394 - val_accuracy: 0.0991\n",
      "Epoch 3/30\n",
      "1000/1000 [==============================] - 4s 4ms/step - loss: 2.3325 - accuracy: 0.0810 - val_loss: 2.3292 - val_accuracy: 0.1030\n",
      "Epoch 4/30\n",
      "1000/1000 [==============================] - 4s 4ms/step - loss: 2.3360 - accuracy: 0.1030 - val_loss: 2.3219 - val_accuracy: 0.0991\n",
      "Epoch 5/30\n",
      "1000/1000 [==============================] - 5s 5ms/step - loss: 2.3294 - accuracy: 0.0810 - val_loss: 2.3147 - val_accuracy: 0.1009\n",
      "Epoch 6/30\n",
      "1000/1000 [==============================] - 4s 4ms/step - loss: 2.3310 - accuracy: 0.1000 - val_loss: 2.3064 - val_accuracy: 0.0991\n",
      "Epoch 7/30\n",
      "1000/1000 [==============================] - 4s 4ms/step - loss: 2.3214 - accuracy: 0.0990 - val_loss: 2.3222 - val_accuracy: 0.1064\n",
      "Epoch 8/30\n",
      "1000/1000 [==============================] - 4s 4ms/step - loss: 2.3268 - accuracy: 0.1000 - val_loss: 2.3212 - val_accuracy: 0.1030\n",
      "Epoch 9/30\n",
      "1000/1000 [==============================] - 4s 4ms/step - loss: 2.3330 - accuracy: 0.0960 - val_loss: 2.3382 - val_accuracy: 0.0990\n",
      "Epoch 10/30\n",
      "1000/1000 [==============================] - 3s 3ms/step - loss: 3.3628 - accuracy: 0.1000 - val_loss: 3.0467 - val_accuracy: 0.0967\n",
      "Epoch 11/30\n",
      "1000/1000 [==============================] - 4s 4ms/step - loss: 2.9509 - accuracy: 0.1020 - val_loss: 2.9242 - val_accuracy: 0.1009\n",
      "Epoch 12/30\n",
      "1000/1000 [==============================] - 4s 4ms/step - loss: 2.8582 - accuracy: 0.0890 - val_loss: 2.9377 - val_accuracy: 0.1090\n",
      "Epoch 13/30\n",
      "1000/1000 [==============================] - 4s 4ms/step - loss: 2.8713 - accuracy: 0.0940 - val_loss: 2.7859 - val_accuracy: 0.0961\n",
      "Epoch 14/30\n",
      "1000/1000 [==============================] - 4s 4ms/step - loss: 2.9487 - accuracy: 0.0780 - val_loss: 3.2177 - val_accuracy: 0.0983\n",
      "Epoch 15/30\n",
      "1000/1000 [==============================] - 4s 4ms/step - loss: 3.4684 - accuracy: 0.0870 - val_loss: 3.5651 - val_accuracy: 0.0915\n",
      "Epoch 16/30\n",
      "1000/1000 [==============================] - 4s 4ms/step - loss: 3.3965 - accuracy: 0.0910 - val_loss: 3.2626 - val_accuracy: 0.1030\n",
      "Epoch 17/30\n",
      "1000/1000 [==============================] - 4s 4ms/step - loss: 3.3218 - accuracy: 0.0920 - val_loss: 3.5781 - val_accuracy: 0.0961\n",
      "Epoch 18/30\n",
      "1000/1000 [==============================] - 3s 3ms/step - loss: 3.4828 - accuracy: 0.0770 - val_loss: 3.2297 - val_accuracy: 0.0990\n",
      "Epoch 19/30\n",
      "1000/1000 [==============================] - 3s 3ms/step - loss: 3.4221 - accuracy: 0.1010 - val_loss: 3.4142 - val_accuracy: 0.1064\n",
      "Epoch 20/30\n",
      "1000/1000 [==============================] - 4s 4ms/step - loss: 3.3928 - accuracy: 0.0960 - val_loss: 3.1311 - val_accuracy: 0.0983\n",
      "Epoch 21/30\n",
      "1000/1000 [==============================] - 4s 4ms/step - loss: 3.1834 - accuracy: 0.0880 - val_loss: 3.0600 - val_accuracy: 0.1064\n",
      "Epoch 22/30\n",
      "1000/1000 [==============================] - 3s 3ms/step - loss: 3.0932 - accuracy: 0.0910 - val_loss: 3.1026 - val_accuracy: 0.1064\n",
      "Epoch 23/30\n",
      "1000/1000 [==============================] - 3s 3ms/step - loss: 3.2046 - accuracy: 0.0980 - val_loss: 3.2289 - val_accuracy: 0.1030\n",
      "Epoch 24/30\n",
      "1000/1000 [==============================] - 3s 3ms/step - loss: 3.3559 - accuracy: 0.1110 - val_loss: 3.3278 - val_accuracy: 0.0990\n",
      "Epoch 25/30\n",
      "1000/1000 [==============================] - 4s 4ms/step - loss: 3.3510 - accuracy: 0.0950 - val_loss: 3.3138 - val_accuracy: 0.1030\n",
      "Epoch 26/30\n",
      "1000/1000 [==============================] - 4s 4ms/step - loss: 3.2574 - accuracy: 0.0890 - val_loss: 3.2461 - val_accuracy: 0.0983\n",
      "Epoch 27/30\n",
      "1000/1000 [==============================] - 4s 4ms/step - loss: 3.2948 - accuracy: 0.0870 - val_loss: 3.3465 - val_accuracy: 0.0990\n",
      "Epoch 28/30\n",
      "1000/1000 [==============================] - 4s 4ms/step - loss: 3.3553 - accuracy: 0.0940 - val_loss: 3.3874 - val_accuracy: 0.0990\n",
      "Epoch 29/30\n",
      "1000/1000 [==============================] - 4s 4ms/step - loss: 3.3567 - accuracy: 0.0950 - val_loss: 3.2860 - val_accuracy: 0.0991\n",
      "Epoch 30/30\n",
      "1000/1000 [==============================] - 4s 4ms/step - loss: 3.3835 - accuracy: 0.0900 - val_loss: 3.4136 - val_accuracy: 0.0915\n"
     ]
    }
   ],
   "source": [
    "#3 layer regularisation\n",
    "average = []\n",
    "weights = []\n",
    "model6 = Sequential()\n",
    "model6.add(Dense(30,activation=\"sigmoid\",kernel_regularizer=regularizers.l2(5)))\n",
    "model6.add(Dense(30,activation=\"sigmoid\",kernel_regularizer=regularizers.l2(5)))\n",
    "model6.add(Dense(30,activation=\"sigmoid\",kernel_regularizer=regularizers.l2(5)))\n",
    "model6.add(Dense(10,activation=\"softmax\"))\n",
    "model6.compile(optimizer=Adam(lr=0.1),loss='sparse_categorical_crossentropy', metrics=['accuracy'])\n",
    "model6_hist = model6.fit(train_100,test_label_100, validation_data = (x_valid, y_valid), epochs = 30,batch_size = 10,callbacks = [print_weights,Learningspeed()])"
   ]
  },
  {
   "cell_type": "code",
   "execution_count": 65,
   "metadata": {},
   "outputs": [
    {
     "data": {
      "text/plain": [
       "<matplotlib.axes._subplots.AxesSubplot at 0x264b0dce948>"
      ]
     },
     "execution_count": 65,
     "metadata": {},
     "output_type": "execute_result"
    },
    {
     "data": {
      "image/png": "[encoded data removed]",
      "text/plain": [
       "<Figure size 432x288 with 1 Axes>"
      ]
     },
     "metadata": {
      "needs_background": "light"
     },
     "output_type": "display_data"
    }
   ],
   "source": [
    "df = pd.DataFrame()\n",
    "df['training_loss'] = model6_hist.history['loss']\n",
    "df['validation loss'] = model6_hist.history['val_loss']\n",
    "df['accuracy'] = model6_hist.history['accuracy']\n",
    "df['learning speed'] = average\n",
    "df.plot()"
   ]
  },
  {
   "cell_type": "code",
   "execution_count": 66,
   "metadata": {},
   "outputs": [
    {
     "name": "stdout",
     "output_type": "stream",
     "text": [
      "0.0892\n"
     ]
    }
   ],
   "source": [
    "yhat = np.argmax(model6.predict(test_data), axis=1)\n",
    "accuracy = metrics.accuracy_score(test_labels, yhat)\n",
    "print(accuracy)"
   ]
  },
  {
   "cell_type": "markdown",
   "metadata": {},
   "source": [
    "# Convolutional Neural network - 2c"
   ]
  },
  {
   "cell_type": "code",
   "execution_count": 67,
   "metadata": {},
   "outputs": [],
   "source": [
    "train_data = mnist.train_images()\n",
    "train_labels = mnist.train_labels()\n",
    "test_data = mnist.test_images()\n",
    "test_labels = mnist.test_labels()\n"
   ]
  },
  {
   "cell_type": "code",
   "execution_count": 69,
   "metadata": {},
   "outputs": [],
   "source": [
    "x_valid = train_data[50000:]\n",
    "y_valid = train_labels[50000:]"
   ]
  },
  {
   "cell_type": "code",
   "execution_count": 70,
   "metadata": {},
   "outputs": [],
   "source": [
    "train_100 = []\n",
    "test_label_100 = []\n",
    "for i in range(10):\n",
    "    indexes_a = np.where(train_labels == i)[0]\n",
    "    for j in range(0,100):\n",
    "        train_100.append(train_data[indexes_a[j]])\n",
    "        test_label_100.append(i)\n",
    "        \n",
    "train_100 = np.array(train_100, dtype=np.float64)\n",
    "test_label_100 = np.array(test_label_100, dtype=np.float64)\n",
    "x_valid = np.array(x_valid, dtype=np.float)\n",
    "x_valid /= 255\n",
    "train_100 /= 255\n"
   ]
  },
  {
   "cell_type": "code",
   "execution_count": 71,
   "metadata": {},
   "outputs": [],
   "source": [
    "img_cols = 28\n",
    "img_rows = 28"
   ]
  },
  {
   "cell_type": "code",
   "execution_count": 72,
   "metadata": {},
   "outputs": [],
   "source": [
    "train_100 = train_100.reshape(train_100.shape[0], img_cols, img_rows, 1)\n",
    "test_data = test_data.reshape(test_data.shape[0], img_cols,img_rows,1 )\n",
    "x_valid = x_valid.reshape(x_valid.shape[0], img_cols,img_rows,1)"
   ]
  },
  {
   "cell_type": "code",
   "execution_count": 73,
   "metadata": {},
   "outputs": [],
   "source": [
    "# using the imagedatagenerator from keras \n",
    "#This can be used to directly rotate, shift the images by pixels\n",
    "datagen = ImageDataGenerator(\n",
    "    featurewise_center=False, samplewise_center=False,\n",
    "    featurewise_std_normalization=False, samplewise_std_normalization=False,\n",
    "    zca_whitening=False, zca_epsilon=1e-06, rotation_range=3, width_shift_range=4,\n",
    "    height_shift_range=4, brightness_range=None, shear_range=0.0, zoom_range=0.0,\n",
    "    channel_shift_range=0.0, fill_mode='nearest', cval=0.0, horizontal_flip=False,\n",
    "    vertical_flip=False, rescale=None, preprocessing_function=None,\n",
    "    data_format=None, validation_split=0.0, dtype=None\n",
    ")\n"
   ]
  },
  {
   "cell_type": "code",
   "execution_count": 75,
   "metadata": {},
   "outputs": [],
   "source": [
    "datagen.fit(train_100)"
   ]
  },
  {
   "cell_type": "code",
   "execution_count": 76,
   "metadata": {
    "scrolled": true
   },
   "outputs": [
    {
     "name": "stdout",
     "output_type": "stream",
     "text": [
      "Epoch 1/30\n",
      "20/20 [==============================] - 5s 245ms/step - loss: 2.6389 - accuracy: 0.0890 - val_loss: 2.4494 - val_accuracy: 0.0915\n",
      "Epoch 2/30\n",
      "20/20 [==============================] - 1s 65ms/step - loss: 2.4255 - accuracy: 0.0840 - val_loss: 2.3237 - val_accuracy: 0.1064\n",
      "Epoch 3/30\n",
      "20/20 [==============================] - 1s 65ms/step - loss: 2.4128 - accuracy: 0.1030 - val_loss: 2.3435 - val_accuracy: 0.0990\n",
      "Epoch 4/30\n",
      "20/20 [==============================] - 1s 63ms/step - loss: 2.4020 - accuracy: 0.0980 - val_loss: 2.3563 - val_accuracy: 0.0967\n",
      "Epoch 5/30\n",
      "20/20 [==============================] - 1s 62ms/step - loss: 2.4157 - accuracy: 0.0900 - val_loss: 2.3291 - val_accuracy: 0.0961\n",
      "Epoch 6/30\n",
      "20/20 [==============================] - 2s 78ms/step - loss: 2.3622 - accuracy: 0.0950 - val_loss: 2.3269 - val_accuracy: 0.1090\n",
      "Epoch 7/30\n",
      "20/20 [==============================] - 1s 65ms/step - loss: 2.4032 - accuracy: 0.0780 - val_loss: 2.3780 - val_accuracy: 0.0990\n",
      "Epoch 8/30\n",
      "20/20 [==============================] - 1s 62ms/step - loss: 2.4142 - accuracy: 0.0980 - val_loss: 2.4125 - val_accuracy: 0.0991\n",
      "Epoch 9/30\n",
      "20/20 [==============================] - 1s 61ms/step - loss: 2.3972 - accuracy: 0.1100 - val_loss: 2.4317 - val_accuracy: 0.0983\n",
      "Epoch 10/30\n",
      "20/20 [==============================] - 1s 61ms/step - loss: 2.3801 - accuracy: 0.1010 - val_loss: 2.3949 - val_accuracy: 0.1009\n",
      "Epoch 11/30\n",
      "20/20 [==============================] - 1s 63ms/step - loss: 2.4102 - accuracy: 0.1040 - val_loss: 2.4126 - val_accuracy: 0.0915\n",
      "Epoch 12/30\n",
      "20/20 [==============================] - 1s 61ms/step - loss: 2.4149 - accuracy: 0.0920 - val_loss: 2.3714 - val_accuracy: 0.1090\n",
      "Epoch 13/30\n",
      "20/20 [==============================] - 1s 61ms/step - loss: 2.3877 - accuracy: 0.0910 - val_loss: 2.3693 - val_accuracy: 0.1090\n",
      "Epoch 14/30\n",
      "20/20 [==============================] - 1s 65ms/step - loss: 2.3934 - accuracy: 0.0960 - val_loss: 2.3789 - val_accuracy: 0.0991\n",
      "Epoch 15/30\n",
      "20/20 [==============================] - 1s 71ms/step - loss: 2.3970 - accuracy: 0.0860 - val_loss: 2.3341 - val_accuracy: 0.0990\n",
      "Epoch 16/30\n",
      "20/20 [==============================] - 1s 68ms/step - loss: 2.4215 - accuracy: 0.1060 - val_loss: 2.4031 - val_accuracy: 0.0983\n",
      "Epoch 17/30\n",
      "20/20 [==============================] - 1s 62ms/step - loss: 2.3820 - accuracy: 0.0890 - val_loss: 2.3426 - val_accuracy: 0.1090\n",
      "Epoch 18/30\n",
      "20/20 [==============================] - 1s 61ms/step - loss: 2.4017 - accuracy: 0.0920 - val_loss: 2.3647 - val_accuracy: 0.0961\n",
      "Epoch 19/30\n",
      "20/20 [==============================] - 1s 61ms/step - loss: 2.4297 - accuracy: 0.1050 - val_loss: 2.4623 - val_accuracy: 0.1064\n",
      "Epoch 20/30\n",
      "20/20 [==============================] - 1s 61ms/step - loss: 2.4577 - accuracy: 0.0930 - val_loss: 2.4618 - val_accuracy: 0.1009\n",
      "Epoch 21/30\n",
      "20/20 [==============================] - 1s 62ms/step - loss: 2.4186 - accuracy: 0.0860 - val_loss: 2.3631 - val_accuracy: 0.1090\n",
      "Epoch 22/30\n",
      "20/20 [==============================] - 1s 61ms/step - loss: 2.4291 - accuracy: 0.0900 - val_loss: 2.3566 - val_accuracy: 0.0991\n",
      "Epoch 23/30\n",
      "20/20 [==============================] - 1s 61ms/step - loss: 2.4209 - accuracy: 0.0880 - val_loss: 2.4241 - val_accuracy: 0.0983\n",
      "Epoch 24/30\n",
      "20/20 [==============================] - 1s 61ms/step - loss: 2.4092 - accuracy: 0.0830 - val_loss: 2.3366 - val_accuracy: 0.0961\n",
      "Epoch 25/30\n",
      "20/20 [==============================] - 1s 59ms/step - loss: 2.3647 - accuracy: 0.0950 - val_loss: 2.3631 - val_accuracy: 0.1064\n",
      "Epoch 26/30\n",
      "20/20 [==============================] - 1s 60ms/step - loss: 2.3726 - accuracy: 0.1070 - val_loss: 2.3613 - val_accuracy: 0.1030\n",
      "Epoch 27/30\n",
      "20/20 [==============================] - 1s 61ms/step - loss: 2.4745 - accuracy: 0.1080 - val_loss: 2.4027 - val_accuracy: 0.0990\n",
      "Epoch 28/30\n",
      "20/20 [==============================] - 1s 60ms/step - loss: 2.4292 - accuracy: 0.0900 - val_loss: 2.4181 - val_accuracy: 0.0961\n",
      "Epoch 29/30\n",
      "20/20 [==============================] - 1s 70ms/step - loss: 2.3839 - accuracy: 0.0920 - val_loss: 2.3427 - val_accuracy: 0.0983\n",
      "Epoch 30/30\n",
      "20/20 [==============================] - 1s 74ms/step - loss: 2.4014 - accuracy: 0.1090 - val_loss: 2.4142 - val_accuracy: 0.0990\n"
     ]
    }
   ],
   "source": [
    "model = Sequential()\n",
    "model.add(Conv2D(64, (3, 3), strides=(2, 2), activation=\"sigmoid\", input_shape=(28,28,1)))\n",
    "model.add(MaxPooling2D(pool_size=(2, 2)))\n",
    "model.add(Flatten()) \n",
    "model.add(Dense(units=30, activation=\"sigmoid\"))\n",
    "model.add(Dropout(0.25))\n",
    "\n",
    "model.add(Dense(10, activation=\"softmax\"))\n",
    "model.compile(optimizer=Adam(lr=0.1), loss='sparse_categorical_crossentropy' , metrics=['accuracy'])\n",
    "model_hist = model.fit(datagen.flow(train_100,test_label_100, batch_size=50), epochs = 30, validation_data = (x_valid, y_valid) )"
   ]
  },
  {
   "cell_type": "code",
   "execution_count": 77,
   "metadata": {},
   "outputs": [
    {
     "name": "stdout",
     "output_type": "stream",
     "text": [
      "0.1032\n"
     ]
    }
   ],
   "source": [
    "yhat = np.argmax(model.predict(test_data), axis=1)\n",
    "accuracy = metrics.accuracy_score(test_labels, yhat)\n",
    "print(accuracy)"
   ]
  },
  {
   "cell_type": "code",
   "execution_count": 78,
   "metadata": {},
   "outputs": [
    {
     "data": {
      "text/plain": [
       "<matplotlib.axes._subplots.AxesSubplot at 0x26424455c88>"
      ]
     },
     "execution_count": 78,
     "metadata": {},
     "output_type": "execute_result"
    },
    {
     "data": {
      "image/png": "[encoded data removed]",
      "text/plain": [
       "<Figure size 432x288 with 1 Axes>"
      ]
     },
     "metadata": {
      "needs_background": "light"
     },
     "output_type": "display_data"
    }
   ],
   "source": [
    "df = pd.DataFrame()\n",
    "df['training_loss'] = model_hist.history['loss']\n",
    "df['validation loss'] = model_hist.history['val_loss']\n",
    "df['accuracy'] = model_hist.history['accuracy']\n",
    "df.plot(grid=True)"
   ]
  },
  {
   "cell_type": "markdown",
   "metadata": {},
   "source": [
    "References:\n",
    "1. https://www.tensorflow.org/api_docs/python/tf/keras/preprocessing/image/ImageDataGenerator\n",
    "2. class notes\n",
    "3. https://keras.io/callbacks/"
   ]
  },
  {
   "cell_type": "code",
   "execution_count": null,
   "metadata": {},
   "outputs": [],
   "source": []
  }
 ],
 "metadata": {
  "kernelspec": {
   "display_name": "Python 3",
   "language": "python",
   "name": "python3"
  },
  "language_info": {
   "codemirror_mode": {
    "name": "ipython",
    "version": 3
   },
   "file_extension": ".py",
   "mimetype": "text/x-python",
   "name": "python",
   "nbconvert_exporter": "python",
   "pygments_lexer": "ipython3",
   "version": "3.7.4"
  }
 },
 "nbformat": 4,
 "nbformat_minor": 2
}
